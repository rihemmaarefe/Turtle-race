{
  "nbformat": 4,
  "nbformat_minor": 0,
  "metadata": {
    "colab": {
      "provenance": [],
      "authorship_tag": "ABX9TyNluB2EVmTrgaTWlNA3vyXM",
      "include_colab_link": true
    },
    "kernelspec": {
      "name": "python3",
      "display_name": "Python 3"
    },
    "language_info": {
      "name": "python"
    }
  },
  "cells": [
    {
      "cell_type": "markdown",
      "metadata": {
        "id": "view-in-github",
        "colab_type": "text"
      },
      "source": [
        "<a href=\"https://colab.research.google.com/github/rihemmaarefe/Turtle-race/blob/main/Untitled6.ipynb\" target=\"_parent\"><img src=\"https://colab.research.google.com/assets/colab-badge.svg\" alt=\"Open In Colab\"/></a>"
      ]
    },
    {
      "cell_type": "code",
      "execution_count": null,
      "metadata": {
        "id": "yZRJnnoCvKea"
      },
      "outputs": [],
      "source": [
        "import turtle\n",
        "import random\n",
        "\n",
        "# function to move a turtle forward by a random amount\n",
        "def move_turtle(turtle):\n",
        "    distance = random.randint(1, 20)\n",
        "    turtle.forward(distance)\n",
        "\n",
        "# create the turtles for the race\n",
        "turtle1 = turtle.Turtle()\n",
        "turtle1.color('red')\n",
        "turtle1.shape('turtle')\n",
        "turtle1.penup()\n",
        "turtle1.goto(-200, 100)\n",
        "turtle1.pendown()\n",
        "\n",
        "turtle2 = turtle.Turtle()\n",
        "turtle2.color('blue')\n",
        "turtle2.shape('turtle')\n",
        "turtle2.penup()\n",
        "turtle2.goto(-200, 50)\n",
        "turtle2.pendown()\n",
        "\n",
        "turtle3 = turtle.Turtle()\n",
        "turtle3.color('green')\n",
        "turtle3.shape('turtle')\n",
        "turtle3.penup()\n",
        "turtle3.goto(-200, 0)\n",
        "turtle3.pendown()\n",
        "\n",
        "turtle4 = turtle.Turtle()\n",
        "turtle4.color('orange')\n",
        "turtle4.shape('turtle')\n",
        "turtle4.penup()\n",
        "turtle4.goto(-200, -50)\n",
        "turtle4.pendown()\n",
        "\n",
        "# move the turtles forward in a loop until one turtle reaches the finish line\n",
        "finish_line = 200\n",
        "while turtle1.xcor() < finish_line and turtle2.xcor() < finish_line and turtle3.xcor() < finish_line and turtle4.xcor() < finish_line:\n",
        "    move_turtle(turtle1)\n",
        "    move_turtle(turtle2)\n",
        "    move_turtle(turtle3)\n",
        "    move_turtle(turtle4)\n",
        "\n",
        "# determine the winner\n",
        "winning_turtle = None\n",
        "winning_color = None\n",
        "if turtle1.xcor() >= finish_line:\n",
        "    winning_turtle = turtle1\n",
        "    winning_color = 'red'\n",
        "elif turtle2.xcor() >= finish_line:\n",
        "    winning_turtle = turtle2\n",
        "    winning_color = 'blue'\n",
        "elif turtle3.xcor() >= finish_line:\n",
        "    winning_turtle = turtle3\n",
        "    winning_color = 'green'\n",
        "elif turtle4.xcor() >= finish_line:\n",
        "    winning_turtle = turtle4\n",
        "    winning_color = 'orange'\n",
        "\n",
        "# display the winner\n",
        "if winning_turtle is not None:\n",
        "    winning_turtle.penup()\n",
        "    winning_turtle.goto(0, 150)\n",
        "    winning_turtle.write(f'The winner is {winning_color} turtle!', align='center', font=('Arial', 24, 'normal'))\n",
        "\n",
        "# allow the user to save the image\n",
        "turtle.getcanvas().postscript(file=\"turtle_race.eps\")\n"
      ]
    },
    {
      "cell_type": "markdown",
      "source": [
        "In this program, we define the move_turtle() function, which takes a turtle as a parameter and moves it forward by a random amount.\n",
        "\n",
        "We then create four turtles for the race and position them at the starting line. We use a loop to move the turtles forward until one turtle reaches the finish line.\n",
        "\n",
        "After the race is over, we determine the winning turtle and display the winner's color using the write() function.\n",
        "\n",
        "Finally, the program allows the user to save the image using the getcanvas().postscript() function.\n",
        "\n",
        "You can customize this code further by adding more turtles or changing the distance that each turtle moves forward, or by adding a graphical user interface (GUI) using a library like Tkinter."
      ],
      "metadata": {
        "id": "P5LHQJpovNjR"
      }
    }
  ]
}